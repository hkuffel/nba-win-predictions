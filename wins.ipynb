{
 "cells": [
  {
   "cell_type": "code",
   "execution_count": 1,
   "metadata": {},
   "outputs": [],
   "source": [
    "import requests\n",
    "from bs4 import BeautifulSoup\n",
    "import pandas as pd\n",
    "import numpy as np"
   ]
  },
  {
   "cell_type": "code",
   "execution_count": 2,
   "metadata": {},
   "outputs": [],
   "source": [
    "def stattaboy(year, stattype):\n",
    "    url = f\"https://www.basketball-reference.com/leagues/NBA_{year}_{stattype}.html\"\n",
    "    page = requests.get(url)\n",
    "    soup = BeautifulSoup(page.content, 'html.parser')\n",
    "    headers = [th.getText() for th in soup.findAll('tr', limit=2)[0].findAll('th')]\n",
    "    headers = headers[1:]\n",
    "    rows = soup.findAll('tr')[1:]\n",
    "    player_stats = [[td.getText() for td in rows[i].findAll('td')] for i in range(len(rows))]\n",
    "    return pd.DataFrame(player_stats, columns=headers)\n",
    "\n",
    "def merge_frames(frame, aframe):\n",
    "    aframe = aframe.drop('Player', axis = 1)\n",
    "    aframe = aframe.drop('Pos', axis = 1)\n",
    "    aframe = aframe.drop('Age', axis = 1)\n",
    "    aframe = aframe.drop('Tm', axis = 1)\n",
    "    aframe = aframe.drop('G', axis = 1)\n",
    "    aframe = aframe.drop('MP', axis = 1)\n",
    "    aframe= aframe.drop('\\xa0', axis = 1)\n",
    "    df = frame.join(aframe)\n",
    "    return df\n",
    "\n",
    "def yearsonyears(years):\n",
    "    df = pd.DataFrame()\n",
    "    for year in years:\n",
    "        frames = [stattaboy(year, 'totals'), stattaboy(year, 'advanced')]\n",
    "        year_df = merge_frames(frames[0], frames[1])\n",
    "        year_df['year'] = [f'{year}'] * len(year_df)\n",
    "        df = df.append(year_df, ignore_index = True)\n",
    "        df = df.dropna()\n",
    "    return df"
   ]
  },
  {
   "cell_type": "code",
   "execution_count": 3,
   "metadata": {},
   "outputs": [
    {
     "data": {
      "text/plain": [
       "(11576, 50)"
      ]
     },
     "execution_count": 3,
     "metadata": {},
     "output_type": "execute_result"
    }
   ],
   "source": [
    "df = yearsonyears(np.arange(2000,2020,1))\n",
    "df.shape"
   ]
  },
  {
   "cell_type": "code",
   "execution_count": 4,
   "metadata": {},
   "outputs": [],
   "source": [
    "cols = df.columns.to_list()\n",
    "cols.remove('Player')\n",
    "cols.remove('Pos')\n",
    "cols.remove('Tm')\n",
    "cols.remove('year')"
   ]
  },
  {
   "cell_type": "code",
   "execution_count": 5,
   "metadata": {},
   "outputs": [],
   "source": [
    "for col in cols:\n",
    "    df[col] = pd.to_numeric(df[col], errors = 'coerce')"
   ]
  },
  {
   "cell_type": "code",
   "execution_count": 6,
   "metadata": {},
   "outputs": [],
   "source": [
    "df = df.dropna()"
   ]
  }
 ],
 "metadata": {
  "kernelspec": {
   "display_name": "Python 3",
   "language": "python",
   "name": "python3"
  },
  "language_info": {
   "codemirror_mode": {
    "name": "ipython",
    "version": 3
   },
   "file_extension": ".py",
   "mimetype": "text/x-python",
   "name": "python",
   "nbconvert_exporter": "python",
   "pygments_lexer": "ipython3",
   "version": "3.7.3"
  },
  "toc": {
   "base_numbering": 1,
   "nav_menu": {},
   "number_sections": true,
   "sideBar": true,
   "skip_h1_title": false,
   "title_cell": "Table of Contents",
   "title_sidebar": "Contents",
   "toc_cell": false,
   "toc_position": {},
   "toc_section_display": true,
   "toc_window_display": false
  }
 },
 "nbformat": 4,
 "nbformat_minor": 2
}
