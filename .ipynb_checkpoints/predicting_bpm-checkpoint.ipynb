{
 "cells": [
  {
   "cell_type": "code",
   "execution_count": 172,
   "metadata": {},
   "outputs": [],
   "source": [
    "import pandas as pd\n",
    "import numpy as np\n",
    "import matplotlib.pyplot as plt\n",
    "from sklearn.metrics.pairwise import cosine_similarity\n",
    "from sklearn.linear_model import LinearRegression"
   ]
  },
  {
   "cell_type": "code",
   "execution_count": 173,
   "metadata": {},
   "outputs": [],
   "source": [
    "df = pd.read_csv('player_stats_1976-2019.csv', encoding = \"UTF-8\")"
   ]
  },
  {
   "cell_type": "code",
   "execution_count": 174,
   "metadata": {},
   "outputs": [],
   "source": [
    "idx = []\n",
    "for i in range(1, len(df)):\n",
    "    if df.at[i,'Player'] == df.at[(i-1),'Player']:\n",
    "        idx.append(i)\n",
    "df = df.drop(idx)"
   ]
  },
  {
   "cell_type": "code",
   "execution_count": 197,
   "metadata": {},
   "outputs": [],
   "source": [
    "players_next_season = df.loc[df['year'] == 2019]"
   ]
  },
  {
   "cell_type": "code",
   "execution_count": 176,
   "metadata": {},
   "outputs": [],
   "source": [
    "def find_peers(player):\n",
    "    player_row = players_next_season.loc[players_next_season['Player'] == player]\n",
    "    age = player_row['Age'].item()\n",
    "    peers = df.loc[df['Age'] == age].reset_index(drop=True)\n",
    "    return peers"
   ]
  },
  {
   "cell_type": "code",
   "execution_count": 195,
   "metadata": {},
   "outputs": [],
   "source": [
    "def find_comps(player):\n",
    "    df = find_peers(player)\n",
    "    ids_ = df[['Player', 'year']]\n",
    "    df = df.drop(['Player', 'Tm', 'year'], axis = 1)\n",
    "    df = pd.get_dummies(df, columns = ['Pos'])\n",
    "    cs = cosine_similarity(df)\n",
    "    \n",
    "    comps = []\n",
    "    idx = ids_.loc[ids_['Player'] == player].index[0]\n",
    "    scores = pd.Series(cs[idx]).sort_values(ascending = False)\n",
    "    \n",
    "    \n",
    "    top_300 = list(scores.iloc[1:301].index)\n",
    "    for i in top_300:\n",
    "        if ids_.loc[i][0] != player:\n",
    "            comps.append((ids_.loc[i][0], ids_.loc[i][1], round(scores.loc[i], 5)))\n",
    "    return comps"
   ]
  },
  {
   "cell_type": "code",
   "execution_count": 196,
   "metadata": {},
   "outputs": [],
   "source": [
    "def display(player):\n",
    "    x = []\n",
    "    y = []\n",
    "    \n",
    "    for comp in find_comps(player):\n",
    "        try:\n",
    "            year2 = df.loc[(df['Player'] == comp[0]) & (df['year'] == (comp[1]+1))]\n",
    "            year1 = df.loc[(df['Player'] == comp[0]) & (df['year'] == comp[1])]\n",
    "            y.append(year2['BPM'].item())\n",
    "            x.append(year1['BPM'].item())\n",
    "        except:\n",
    "            pass\n",
    "        \n",
    "    x = np.array(x)\n",
    "    x = x.reshape(-1, 1)\n",
    "    y = pd.Series(y)\n",
    "\n",
    "    reg = LinearRegression().fit(x,y)\n",
    "    y_pred = reg.predict(x)\n",
    "    \n",
    "    previous_row = df.loc[(df['Player'] == 'Derrick Rose') & (df['year'] == 2019)]\n",
    "    previous_bpm = previous_row['BPM'].item()\n",
    "    bpm_pred = round(reg.predict(np.array(previous_bpm).reshape(-1,1)).item(),5)\n",
    "    \n",
    "    print(f'We predict that {player} will have a Box Plus Minus of {bpm_pred} next year.')\n",
    "    print('Top Comparisons:')\n",
    "    for comp in list_comps(player)[1:6]:\n",
    "        print(f'Name: {comp[0]}    Year: {comp[1]}    Sim Score: {comp[2]} \\n')\n",
    "        \n",
    "    plt.scatter(x,y)\n",
    "    plt.plot(x, y_pred, color = 'black')\n",
    "    plt.show()"
   ]
  },
  {
   "cell_type": "code",
   "execution_count": 194,
   "metadata": {
    "scrolled": false
   },
   "outputs": [
    {
     "name": "stdout",
     "output_type": "stream",
     "text": [
      "We predict that Rajon Rondo will have a Box Plus Minus of -1.53204 next year.\n",
      "Top Comparisons:\n",
      "Name: Mookie Blaylock    Year: 2000    Sim Score: 0.9936 \n",
      "\n",
      "Name: Mark Jackson    Year: 1998    Sim Score: 0.99355 \n",
      "\n",
      "Name: Marcelo Huertas    Year: 2016    Sim Score: 0.99291 \n",
      "\n",
      "Name: Anthony Carter    Year: 2008    Sim Score: 0.9917 \n",
      "\n",
      "Name: Baron Davis    Year: 2012    Sim Score: 0.99088 \n",
      "\n"
     ]
    },
    {
     "data": {
      "image/png": "[encoded data removed]",
      "text/plain": [
       "<Figure size 432x288 with 1 Axes>"
      ]
     },
     "metadata": {
      "needs_background": "light"
     },
     "output_type": "display_data"
    }
   ],
   "source": [
    "display('Rajon Rondo')"
   ]
  }
 ],
 "metadata": {
  "kernelspec": {
   "display_name": "Python 3",
   "language": "python",
   "name": "python3"
  },
  "language_info": {
   "codemirror_mode": {
    "name": "ipython",
    "version": 3
   },
   "file_extension": ".py",
   "mimetype": "text/x-python",
   "name": "python",
   "nbconvert_exporter": "python",
   "pygments_lexer": "ipython3",
   "version": "3.7.3"
  },
  "toc": {
   "base_numbering": 1,
   "nav_menu": {},
   "number_sections": true,
   "sideBar": true,
   "skip_h1_title": false,
   "title_cell": "Table of Contents",
   "title_sidebar": "Contents",
   "toc_cell": false,
   "toc_position": {},
   "toc_section_display": true,
   "toc_window_display": false
  }
 },
 "nbformat": 4,
 "nbformat_minor": 2
}
