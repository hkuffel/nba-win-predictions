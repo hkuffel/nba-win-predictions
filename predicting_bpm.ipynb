{
 "cells": [
  {
   "cell_type": "code",
   "execution_count": 1,
   "metadata": {},
   "outputs": [],
   "source": [
    "from ipywidgets import interact, interact_manual\n",
    "import pandas as pd\n",
    "import numpy as np\n",
    "import matplotlib.pyplot as plt\n",
    "from sklearn.metrics.pairwise import cosine_similarity\n",
    "from sklearn.linear_model import LinearRegression"
   ]
  },
  {
   "cell_type": "code",
   "execution_count": 2,
   "metadata": {},
   "outputs": [],
   "source": [
    "df = pd.read_csv('player_stats_1976-2019.csv', encoding = \"UTF-8\")"
   ]
  },
  {
   "cell_type": "markdown",
   "metadata": {},
   "source": [
    "Basketball Reference includes multiple rows for the same player's season if that player was traded to another team during the season. The following cell pares down the data to just one row per player per season, only including the rows that span a player's whole season."
   ]
  },
  {
   "cell_type": "code",
   "execution_count": 3,
   "metadata": {},
   "outputs": [],
   "source": [
    "idx = []\n",
    "for i in range(1, len(df)):\n",
    "    if df.at[i,'Player'] == df.at[(i-1),'Player']:\n",
    "        idx.append(i)\n",
    "df = df.drop(idx)"
   ]
  },
  {
   "cell_type": "code",
   "execution_count": 4,
   "metadata": {},
   "outputs": [],
   "source": [
    "# creating a dataframe of just players that played last season\n",
    "players_next_season = df.loc[df['year'] == 2019]"
   ]
  },
  {
   "cell_type": "markdown",
   "metadata": {},
   "source": [
    "The following function takes in a player's name, then returns a dataframe of player seasons from the dataset in which the player was the same age as the input player was last season. This helps us ensure that we're comparing to player's at a similar point in their careers."
   ]
  },
  {
   "cell_type": "code",
   "execution_count": 5,
   "metadata": {},
   "outputs": [],
   "source": [
    "def find_peers(player):\n",
    "    player_row = players_next_season.loc[players_next_season['Player'] == player]\n",
    "    age = player_row['Age'].item()\n",
    "    peers = df.loc[df['Age'] == age].reset_index(drop=True)\n",
    "    return peers"
   ]
  },
  {
   "cell_type": "markdown",
   "metadata": {},
   "source": [
    "This next function takes in a player, then uses cosine similarity to generate the 300 most similar players in the dataset."
   ]
  },
  {
   "cell_type": "code",
   "execution_count": 6,
   "metadata": {},
   "outputs": [],
   "source": [
    "def find_comps(player):\n",
    "    df = find_peers(player)\n",
    "    # saving each player season with its index to refer to later\n",
    "    ids_ = df[['Player', 'year']]\n",
    "    \n",
    "    # Removing unwanted columns and creating a cosine similarity matrix\n",
    "    df = df.drop(['Player', 'Tm', 'year'], axis = 1)\n",
    "    df = pd.get_dummies(df, columns = ['Pos'])\n",
    "    cs = cosine_similarity(df)\n",
    "    \n",
    "    # Extracting the top 300 similarity scores for the player in question\n",
    "    comps = []\n",
    "    idx = ids_.loc[ids_['Player'] == player].index[0]\n",
    "    scores = pd.Series(cs[idx]).sort_values(ascending = False)\n",
    "    top_300 = list(scores.iloc[1:301].index)\n",
    "    \n",
    "    # Finding the name, year and score for each of the top 300 and adding to list\n",
    "    for i in top_300:\n",
    "        if ids_.loc[i][0] != player:\n",
    "            comps.append((ids_.loc[i][0], ids_.loc[i][1], round(scores.loc[i], 5)))\n",
    "    return comps"
   ]
  },
  {
   "cell_type": "markdown",
   "metadata": {},
   "source": [
    "This next function takes each player in the list of comparative players and collects both their box plus minus and their box plus minus from the next season (if they've played a next season, that is. \n",
    "\n",
    "Then, I've fit a linear regression model to this data, and used it to predict our player of interest's box plus minus next season. \n",
    "\n",
    "In terms of accuracy, there's a lot left to be desired here, but that's why this is a work in progress. I'm sure there are hours of tinkering around the edges in my future in order to find a better method of prediction. First, however, I'm focused on developing a working system."
   ]
  },
  {
   "cell_type": "code",
   "execution_count": 13,
   "metadata": {},
   "outputs": [],
   "source": [
    "def predict(player):\n",
    "    ox, oy = [], []\n",
    "    dx, dy = [], []\n",
    "    \n",
    "    # collecting the BPM for each comp, as well as the BPM for the next year (if possible)\n",
    "    for comp in find_comps(player):\n",
    "        try:\n",
    "            year2 = df.loc[(df['Player'] == comp[0]) & (df['year'] == (comp[1]+1))]\n",
    "            year1 = df.loc[(df['Player'] == comp[0]) & (df['year'] == comp[1])]\n",
    "            oy.append(year2['OBPM'].item())\n",
    "            ox.append(year1['OBPM'].item())\n",
    "            dy.append(year2['DBPM'].item())\n",
    "            dx.append(year1['DBPM'].item())\n",
    "        except:\n",
    "            pass\n",
    "    \n",
    "    # converting from a list to a numpy array\n",
    "    ox = np.array(ox)\n",
    "    ox = ox.reshape(-1, 1)\n",
    "    oy = np.array(oy)\n",
    "    \n",
    "    # fitting a regression model and predicting next year's BPMs\n",
    "    # These predictions are just for the purpose of visualization\n",
    "    oreg = LinearRegression().fit(ox,oy)\n",
    "    oy_pred = oreg.predict(ox)\n",
    "    \n",
    "    dx = np.array(dx)\n",
    "    dx = dx.reshape(-1, 1)\n",
    "    dy = np.array(dy)\n",
    "    \n",
    "    # fitting a regression model and predicting next year's BPMs\n",
    "    # These predictions are just for the purpose of visualization\n",
    "    dreg = LinearRegression().fit(dx,dy)\n",
    "    dy_pred = dreg.predict(dx)\n",
    "    \n",
    "    # Predicting next year's BPM for the player in question\n",
    "    previous_row = df.loc[(df['Player'] == 'Derrick Rose') & (df['year'] == 2019)]\n",
    "    previous_bpms = [previous_row['OBPM'].item(), previous_row['DBPM'].item()]\n",
    "    minutes = previous_row['MP'].item()\n",
    "    bpm_preds = [round(oreg.predict(np.array(previous_bpms[0]).reshape(-1,1)).item(),5),\n",
    "                 round(dreg.predict(np.array(previous_bpms[1]).reshape(-1,1)).item(),5)]\n",
    "    \n",
    "    return ox, oy, oy_pred, bpm_preds, minutes"
   ]
  },
  {
   "cell_type": "code",
   "execution_count": 42,
   "metadata": {
    "scrolled": true
   },
   "outputs": [],
   "source": [
    "def display(player):\n",
    "    ox, oy, oy_pred, bpm_preds, minutes = predict(player)\n",
    "    #war = (bpm_preds * minutes * 2.18) / (48 * 82)\n",
    "    print(f'We predict that {player} will have a Box Plus Minus of {bpm_preds} next year.')\n",
    "    print('Top Comparisons:')\n",
    "    for comp in find_comps(player)[1:6]:\n",
    "        print(f'Name: {comp[0]}    Year: {comp[1]}    Sim Score: {comp[2]} \\n')\n",
    "        \n",
    "    plt.scatter(ox, oy)\n",
    "    plt.plot(ox, oy_pred, color = 'black')\n",
    "    plt.show()"
   ]
  },
  {
   "cell_type": "code",
   "execution_count": 41,
   "metadata": {},
   "outputs": [],
   "source": [
    "def create_a_team():\n",
    "    team = np.random.choice(players_next_season['Player'], 15)\n",
    "    opms, dpms = [], []\n",
    "    for p in team:\n",
    "        ox, oy, oy_pred, bpm_preds, minutes = predict(p)\n",
    "        opms.append(bpm_preds[0])\n",
    "        dpms.append(bpm_preds[1])\n",
    "    team_opm = sum([opm * 0.1417 for opm in opms[:5]]) + sum([opm * 0.0417 for opm in opms[5:10]])\n",
    "    team_opm += + sum([opm * 0.0167 for opm in opms[11:]])\n",
    "    team_dpm = sum([dpm * 0.1417 for dpm in dpms[:5]]) + sum([dpm * 0.0417 for dpm in dpms[5:10]])\n",
    "    team_dpm += + sum([dpm * 0.0167 for dpm in dpms[11:]])\n",
    "\n",
    "    win_percent = (108 + team_opm)**14 / ((108 + team_opm)**14 + (108 - team_dpm)**14)\n",
    "    win_percent\n",
    "\n",
    "    wins = []\n",
    "    for _ in range(50000):\n",
    "        record = 0\n",
    "        for g in range(82):\n",
    "            toss = np.random.rand()\n",
    "            if toss <= win_percent:\n",
    "                record += 1\n",
    "        wins.append(record)\n",
    "    win_total = sum(wins) // len(wins)\n",
    "    \n",
    "    message = f'Your starting lineup is {team[:5]}.\\n Your bench is {team[5:]}'\n",
    "    print(message)\n",
    "    print(f'We predict your team will win {win_total} games')"
   ]
  },
  {
   "cell_type": "code",
   "execution_count": 43,
   "metadata": {},
   "outputs": [
    {
     "name": "stdout",
     "output_type": "stream",
     "text": [
      "Your starting lineup is ['Nikola Vučević' 'Guerschon Yabusele' 'Danuel House' 'Evan Fournier'\n",
      " 'Yuta Watanabe'].\n",
      " Your bench is ['Quincy Pondexter' 'Markelle Fultz' 'Luke Kornet' 'Jeremy Lin'\n",
      " 'Zach Collins' 'Lonnie Walker' 'Marcus Morris' 'Matthew Dellavedova'\n",
      " 'Rodney Hood' 'Bobby Portis']\n",
      "We predict your team will win 38 games\n"
     ]
    }
   ],
   "source": [
    "create_a_team()"
   ]
  },
  {
   "cell_type": "code",
   "execution_count": null,
   "metadata": {},
   "outputs": [],
   "source": []
  }
 ],
 "metadata": {
  "kernelspec": {
   "display_name": "Python 3",
   "language": "python",
   "name": "python3"
  },
  "language_info": {
   "codemirror_mode": {
    "name": "ipython",
    "version": 3
   },
   "file_extension": ".py",
   "mimetype": "text/x-python",
   "name": "python",
   "nbconvert_exporter": "python",
   "pygments_lexer": "ipython3",
   "version": "3.7.3"
  },
  "toc": {
   "base_numbering": 1,
   "nav_menu": {},
   "number_sections": true,
   "sideBar": true,
   "skip_h1_title": false,
   "title_cell": "Table of Contents",
   "title_sidebar": "Contents",
   "toc_cell": false,
   "toc_position": {},
   "toc_section_display": true,
   "toc_window_display": false
  }
 },
 "nbformat": 4,
 "nbformat_minor": 2
}
