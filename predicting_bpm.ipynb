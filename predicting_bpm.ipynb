{
 "cells": [
  {
   "cell_type": "code",
   "execution_count": 172,
   "metadata": {},
   "outputs": [],
   "source": [
    "import pandas as pd\n",
    "import numpy as np\n",
    "import matplotlib.pyplot as plt\n",
    "from sklearn.metrics.pairwise import cosine_similarity\n",
    "from sklearn.linear_model import LinearRegression"
   ]
  },
  {
   "cell_type": "code",
   "execution_count": 173,
   "metadata": {},
   "outputs": [],
   "source": [
    "df = pd.read_csv('player_stats_1976-2019.csv', encoding = \"UTF-8\")"
   ]
  },
  {
   "cell_type": "markdown",
   "metadata": {},
   "source": [
    "Basketball Reference includes multiple rows for the same player's season if that player was traded to another team during the season. The following cell pares down the data to just one row per player per season, only including the rows that span a player's whole season."
   ]
  },
  {
   "cell_type": "code",
   "execution_count": 174,
   "metadata": {},
   "outputs": [],
   "source": [
    "idx = []\n",
    "for i in range(1, len(df)):\n",
    "    if df.at[i,'Player'] == df.at[(i-1),'Player']:\n",
    "        idx.append(i)\n",
    "df = df.drop(idx)"
   ]
  },
  {
   "cell_type": "code",
   "execution_count": 197,
   "metadata": {},
   "outputs": [],
   "source": [
    "# creating a dataframe of just players that played last season\n",
    "players_next_season = df.loc[df['year'] == 2019]"
   ]
  },
  {
   "cell_type": "markdown",
   "metadata": {},
   "source": [
    "The following function takes in a player's name, then returns a dataframe of player seasons from the dataset in which the player was the same age as the input player was last season. This helps us ensure that we're comparing to player's at a similar point in their careers."
   ]
  },
  {
   "cell_type": "code",
   "execution_count": 176,
   "metadata": {},
   "outputs": [],
   "source": [
    "def find_peers(player):\n",
    "    player_row = players_next_season.loc[players_next_season['Player'] == player]\n",
    "    age = player_row['Age'].item()\n",
    "    peers = df.loc[df['Age'] == age].reset_index(drop=True)\n",
    "    return peers"
   ]
  },
  {
   "cell_type": "markdown",
   "metadata": {},
   "source": [
    "This next function takes in a player, then uses cosine similarity to generate the 300 most similar players in the dataset."
   ]
  },
  {
   "cell_type": "code",
   "execution_count": 195,
   "metadata": {},
   "outputs": [],
   "source": [
    "def find_comps(player):\n",
    "    df = find_peers(player)\n",
    "    # saving each player season with its index to refer to later\n",
    "    ids_ = df[['Player', 'year']]\n",
    "    \n",
    "    # Removing unwanted columns and creating a cosine similarity matrix\n",
    "    df = df.drop(['Player', 'Tm', 'year'], axis = 1)\n",
    "    df = pd.get_dummies(df, columns = ['Pos'])\n",
    "    cs = cosine_similarity(df)\n",
    "    \n",
    "    # Extracting the top 300 similarity scores for the player in question\n",
    "    comps = []\n",
    "    idx = ids_.loc[ids_['Player'] == player].index[0]\n",
    "    scores = pd.Series(cs[idx]).sort_values(ascending = False)\n",
    "    top_300 = list(scores.iloc[1:301].index)\n",
    "    \n",
    "    # Finding the name, year and score for each of the top 300 and adding to list\n",
    "    for i in top_300:\n",
    "        if ids_.loc[i][0] != player:\n",
    "            comps.append((ids_.loc[i][0], ids_.loc[i][1], round(scores.loc[i], 5)))\n",
    "    return comps"
   ]
  },
  {
   "cell_type": "markdown",
   "metadata": {},
   "source": [
    "This next function takes each player in the list of comparative players and collects both their box plus minus and their box plus minus from the next season (if they've played a next season, that is. \n",
    "\n",
    "Then, I've fit a linear regression model to this data, and used it to predict our player of interest's box plus minus next season. \n",
    "\n",
    "In terms of accuracy, there's a lot left to be desired here, but that's why this is a work in progress. I'm sure there are hours of tinkering around the edges in my future in order to find a better method of prediction. First, however, I'm focused on developing a working system."
   ]
  },
  {
   "cell_type": "code",
   "execution_count": 198,
   "metadata": {},
   "outputs": [],
   "source": [
    "def predict(player):\n",
    "    x = []\n",
    "    y = []\n",
    "    \n",
    "    # collecting the BPM for each comp, as well as the BPM for the next year (if possible)\n",
    "    for comp in find_comps(player):\n",
    "        try:\n",
    "            year2 = df.loc[(df['Player'] == comp[0]) & (df['year'] == (comp[1]+1))]\n",
    "            year1 = df.loc[(df['Player'] == comp[0]) & (df['year'] == comp[1])]\n",
    "            y.append(year2['BPM'].item())\n",
    "            x.append(year1['BPM'].item())\n",
    "        except:\n",
    "            pass\n",
    "    \n",
    "    # converting from a list to a numpy array\n",
    "    x = np.array(x)\n",
    "    x = x.reshape(-1, 1)\n",
    "    y = np.array(y)\n",
    "    \n",
    "    # fitting a regression model and predicting next year's BPMs\n",
    "    # These predictions are just for the purpose of visualization\n",
    "    reg = LinearRegression().fit(x,y)\n",
    "    y_pred = reg.predict(x)\n",
    "    \n",
    "    # Predicting next year's BPM for the player in question\n",
    "    previous_row = df.loc[(df['Player'] == 'Derrick Rose') & (df['year'] == 2019)]\n",
    "    previous_bpm = previous_row['BPM'].item()\n",
    "    bpm_pred = round(reg.predict(np.array(previous_bpm).reshape(-1,1)).item(),5)\n",
    "    \n",
    "    return x, y, y_pred, bpm_pred"
   ]
  },
  {
   "cell_type": "code",
   "execution_count": 201,
   "metadata": {},
   "outputs": [],
   "source": [
    "def display(player):\n",
    "    x, y, y_pred, bpm_pred = predict(player)\n",
    "    print(f'We predict that {player} will have a Box Plus Minus of {bpm_pred} next year.')\n",
    "    print('Top Comparisons:')\n",
    "    for comp in find_comps(player)[1:6]:\n",
    "        print(f'Name: {comp[0]}    Year: {comp[1]}    Sim Score: {comp[2]} \\n')\n",
    "        \n",
    "    plt.scatter(x,y)\n",
    "    plt.plot(x, y_pred, color = 'black')\n",
    "    plt.show()"
   ]
  },
  {
   "cell_type": "code",
   "execution_count": 218,
   "metadata": {
    "scrolled": false
   },
   "outputs": [
    {
     "name": "stdout",
     "output_type": "stream",
     "text": [
      "We predict that Alex Caruso will have a Box Plus Minus of -0.5559 next year.\n",
      "Top Comparisons:\n",
      "Name: Goran Dragić    Year: 2011    Sim Score: 0.99793 \n",
      "\n",
      "Name: Jalen Rose    Year: 1997    Sim Score: 0.99749 \n",
      "\n",
      "Name: Chauncey Billups    Year: 2001    Sim Score: 0.99719 \n",
      "\n",
      "Name: Sam Cassell    Year: 1994    Sim Score: 0.99706 \n",
      "\n",
      "Name: Derek Anderson    Year: 1999    Sim Score: 0.99698 \n",
      "\n"
     ]
    },
    {
     "data": {
      "image/png": "[encoded data removed]",
      "text/plain": [
       "<Figure size 432x288 with 1 Axes>"
      ]
     },
     "metadata": {
      "needs_background": "light"
     },
     "output_type": "display_data"
    }
   ],
   "source": [
    "display('Alex Caruso')"
   ]
  }
 ],
 "metadata": {
  "kernelspec": {
   "display_name": "Python 3",
   "language": "python",
   "name": "python3"
  },
  "language_info": {
   "codemirror_mode": {
    "name": "ipython",
    "version": 3
   },
   "file_extension": ".py",
   "mimetype": "text/x-python",
   "name": "python",
   "nbconvert_exporter": "python",
   "pygments_lexer": "ipython3",
   "version": "3.7.3"
  },
  "toc": {
   "base_numbering": 1,
   "nav_menu": {},
   "number_sections": true,
   "sideBar": true,
   "skip_h1_title": false,
   "title_cell": "Table of Contents",
   "title_sidebar": "Contents",
   "toc_cell": false,
   "toc_position": {},
   "toc_section_display": true,
   "toc_window_display": false
  }
 },
 "nbformat": 4,
 "nbformat_minor": 2
}
